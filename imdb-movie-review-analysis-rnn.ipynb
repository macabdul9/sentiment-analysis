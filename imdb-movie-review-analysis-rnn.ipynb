{
  "nbformat": 4,
  "nbformat_minor": 0,
  "metadata": {
    "colab": {
      "name": "RNN.ipynb",
      "version": "0.3.2",
      "provenance": [],
      "toc_visible": true
    },
    "kernelspec": {
      "name": "python3",
      "display_name": "Python 3"
    },
    "accelerator": "GPU"
  },
  "cells": [
    {
      "cell_type": "code",
      "metadata": {
        "id": "yFbMzizyNGhK",
        "colab_type": "code",
        "colab": {}
      },
      "source": [
        "import warnings\n",
        "warnings.filterwarnings('ignore')"
      ],
      "execution_count": 0,
      "outputs": []
    },
    {
      "cell_type": "code",
      "metadata": {
        "id": "KqNfH6IaNS21",
        "colab_type": "code",
        "colab": {
          "base_uri": "https://localhost:8080/",
          "height": 34
        },
        "outputId": "b6a082eb-20db-4e24-a73c-59f7050873f3"
      },
      "source": [
        "import keras\n",
        "import numpy as np\n",
        "import matplotlib.pyplot as plt"
      ],
      "execution_count": 2,
      "outputs": [
        {
          "output_type": "stream",
          "text": [
            "Using TensorFlow backend.\n"
          ],
          "name": "stderr"
        }
      ]
    },
    {
      "cell_type": "code",
      "metadata": {
        "id": "ps0F6Yb-Ne0K",
        "colab_type": "code",
        "colab": {}
      },
      "source": [
        "from keras.datasets import imdb"
      ],
      "execution_count": 0,
      "outputs": []
    },
    {
      "cell_type": "code",
      "metadata": {
        "id": "6doIbtUGNhWw",
        "colab_type": "code",
        "colab": {
          "base_uri": "https://localhost:8080/",
          "height": 52
        },
        "outputId": "4ba7af7f-1075-403a-919f-1a603f60da09"
      },
      "source": [
        "# save np.load\n",
        "np_load_old = np.load\n",
        "\n",
        "# modify the default parameters of np.load\n",
        "np.load = lambda *a,**k: np_load_old(*a, allow_pickle=True, **k)\n",
        "\n",
        "# call load_data with allow_pickle implicitly set to true\n",
        "(x_train, y_train), (x_test, y_test) = imdb.load_data(num_words=10000)\n",
        "\n",
        "# restore np.load for future normal usage\n",
        "np.load = np_load_old"
      ],
      "execution_count": 4,
      "outputs": [
        {
          "output_type": "stream",
          "text": [
            "Downloading data from https://s3.amazonaws.com/text-datasets/imdb.npz\n",
            "17465344/17464789 [==============================] - 1s 0us/step\n"
          ],
          "name": "stdout"
        }
      ]
    },
    {
      "cell_type": "code",
      "metadata": {
        "id": "mT_4CY6RNrBs",
        "colab_type": "code",
        "colab": {
          "base_uri": "https://localhost:8080/",
          "height": 52
        },
        "outputId": "97e39fb5-3347-4178-8df6-c9e9b4087784"
      },
      "source": [
        "print(x_train.shape, y_train.shape)\n",
        "print(x_test.shape, y_test.shape)"
      ],
      "execution_count": 5,
      "outputs": [
        {
          "output_type": "stream",
          "text": [
            "(25000,) (25000,)\n",
            "(25000,) (25000,)\n"
          ],
          "name": "stdout"
        }
      ]
    },
    {
      "cell_type": "code",
      "metadata": {
        "id": "Z_orhuBrPHA9",
        "colab_type": "code",
        "colab": {
          "base_uri": "https://localhost:8080/",
          "height": 54
        },
        "outputId": "9ab21c39-2d06-4fcd-991d-08a7b71e1553"
      },
      "source": [
        "print(x_train[0])"
      ],
      "execution_count": 6,
      "outputs": [
        {
          "output_type": "stream",
          "text": [
            "[1, 14, 22, 16, 43, 530, 973, 1622, 1385, 65, 458, 4468, 66, 3941, 4, 173, 36, 256, 5, 25, 100, 43, 838, 112, 50, 670, 2, 9, 35, 480, 284, 5, 150, 4, 172, 112, 167, 2, 336, 385, 39, 4, 172, 4536, 1111, 17, 546, 38, 13, 447, 4, 192, 50, 16, 6, 147, 2025, 19, 14, 22, 4, 1920, 4613, 469, 4, 22, 71, 87, 12, 16, 43, 530, 38, 76, 15, 13, 1247, 4, 22, 17, 515, 17, 12, 16, 626, 18, 2, 5, 62, 386, 12, 8, 316, 8, 106, 5, 4, 2223, 5244, 16, 480, 66, 3785, 33, 4, 130, 12, 16, 38, 619, 5, 25, 124, 51, 36, 135, 48, 25, 1415, 33, 6, 22, 12, 215, 28, 77, 52, 5, 14, 407, 16, 82, 2, 8, 4, 107, 117, 5952, 15, 256, 4, 2, 7, 3766, 5, 723, 36, 71, 43, 530, 476, 26, 400, 317, 46, 7, 4, 2, 1029, 13, 104, 88, 4, 381, 15, 297, 98, 32, 2071, 56, 26, 141, 6, 194, 7486, 18, 4, 226, 22, 21, 134, 476, 26, 480, 5, 144, 30, 5535, 18, 51, 36, 28, 224, 92, 25, 104, 4, 226, 65, 16, 38, 1334, 88, 12, 16, 283, 5, 16, 4472, 113, 103, 32, 15, 16, 5345, 19, 178, 32]\n"
          ],
          "name": "stdout"
        }
      ]
    },
    {
      "cell_type": "code",
      "metadata": {
        "id": "zTAjM3xDPLSR",
        "colab_type": "code",
        "colab": {
          "base_uri": "https://localhost:8080/",
          "height": 52
        },
        "outputId": "b021edda-ba05-4ad2-8a32-8ee6ec4cbb65"
      },
      "source": [
        "word_idx = imdb.get_word_index()"
      ],
      "execution_count": 7,
      "outputs": [
        {
          "output_type": "stream",
          "text": [
            "Downloading data from https://s3.amazonaws.com/text-datasets/imdb_word_index.json\n",
            "1646592/1641221 [==============================] - 1s 0us/step\n"
          ],
          "name": "stdout"
        }
      ]
    },
    {
      "cell_type": "code",
      "metadata": {
        "id": "O9XrcdG6PUe8",
        "colab_type": "code",
        "colab": {}
      },
      "source": [
        "idx_word = dict([value, key] for (key, value) in word_idx.items())"
      ],
      "execution_count": 0,
      "outputs": []
    },
    {
      "cell_type": "code",
      "metadata": {
        "id": "40TWw94vPywX",
        "colab_type": "code",
        "colab": {}
      },
      "source": [
        "# get a review\n",
        "# ? - replace those with ? which are not in the vocabulary\n",
        "\n",
        "review = ' '.join(idx_word.get(idx-3, '?') for idx in x_train[0])"
      ],
      "execution_count": 0,
      "outputs": []
    },
    {
      "cell_type": "code",
      "metadata": {
        "id": "9RYCbNb_P0Hl",
        "colab_type": "code",
        "colab": {
          "base_uri": "https://localhost:8080/",
          "height": 54
        },
        "outputId": "f82e87a2-68ec-4ac9-9a4c-efdc9d0783d0"
      },
      "source": [
        "review"
      ],
      "execution_count": 10,
      "outputs": [
        {
          "output_type": "execute_result",
          "data": {
            "text/plain": [
              "\"? this film was just brilliant casting location scenery story direction everyone's really suited the part they played and you could just imagine being there robert ? is an amazing actor and now the same being director ? father came from the same scottish island as myself so i loved the fact there was a real connection with this film the witty remarks throughout the film were great it was just brilliant so much that i bought the film as soon as it was released for ? and would recommend it to everyone to watch and the fly fishing was amazing really cried at the end it was so sad and you know what they say if you cry at a film it must have been good and this definitely was also ? to the two little boy's that played the ? of norman and paul they were just brilliant children are often left out of the ? list i think because the stars that play them all grown up are such a big profile for the whole film but these children are amazing and should be praised for what they have done don't you think the whole story was so lovely because it was true and was someone's life after all that was shared with us all\""
            ]
          },
          "metadata": {
            "tags": []
          },
          "execution_count": 10
        }
      ]
    },
    {
      "cell_type": "code",
      "metadata": {
        "id": "jdDRc8rURXtm",
        "colab_type": "code",
        "colab": {}
      },
      "source": [
        "## Create a 2-D tensor to be processed by the embedding layer\n",
        "from keras.preprocessing import sequence\n"
      ],
      "execution_count": 0,
      "outputs": []
    },
    {
      "cell_type": "code",
      "metadata": {
        "id": "hnhNvwTgZ_hy",
        "colab_type": "code",
        "colab": {}
      },
      "source": [
        "x_train = sequence.pad_sequences(x_train, maxlen=500)\n",
        "x_test = sequence.pad_sequences(x_test, maxlen=500)"
      ],
      "execution_count": 0,
      "outputs": []
    },
    {
      "cell_type": "code",
      "metadata": {
        "id": "Fs-9twDHaGEl",
        "colab_type": "code",
        "colab": {
          "base_uri": "https://localhost:8080/",
          "height": 816
        },
        "outputId": "87df0dfd-b85e-4dd6-b1f2-2799922acf2e"
      },
      "source": [
        "x_train[0]"
      ],
      "execution_count": 13,
      "outputs": [
        {
          "output_type": "execute_result",
          "data": {
            "text/plain": [
              "array([   0,    0,    0,    0,    0,    0,    0,    0,    0,    0,    0,\n",
              "          0,    0,    0,    0,    0,    0,    0,    0,    0,    0,    0,\n",
              "          0,    0,    0,    0,    0,    0,    0,    0,    0,    0,    0,\n",
              "          0,    0,    0,    0,    0,    0,    0,    0,    0,    0,    0,\n",
              "          0,    0,    0,    0,    0,    0,    0,    0,    0,    0,    0,\n",
              "          0,    0,    0,    0,    0,    0,    0,    0,    0,    0,    0,\n",
              "          0,    0,    0,    0,    0,    0,    0,    0,    0,    0,    0,\n",
              "          0,    0,    0,    0,    0,    0,    0,    0,    0,    0,    0,\n",
              "          0,    0,    0,    0,    0,    0,    0,    0,    0,    0,    0,\n",
              "          0,    0,    0,    0,    0,    0,    0,    0,    0,    0,    0,\n",
              "          0,    0,    0,    0,    0,    0,    0,    0,    0,    0,    0,\n",
              "          0,    0,    0,    0,    0,    0,    0,    0,    0,    0,    0,\n",
              "          0,    0,    0,    0,    0,    0,    0,    0,    0,    0,    0,\n",
              "          0,    0,    0,    0,    0,    0,    0,    0,    0,    0,    0,\n",
              "          0,    0,    0,    0,    0,    0,    0,    0,    0,    0,    0,\n",
              "          0,    0,    0,    0,    0,    0,    0,    0,    0,    0,    0,\n",
              "          0,    0,    0,    0,    0,    0,    0,    0,    0,    0,    0,\n",
              "          0,    0,    0,    0,    0,    0,    0,    0,    0,    0,    0,\n",
              "          0,    0,    0,    0,    0,    0,    0,    0,    0,    0,    0,\n",
              "          0,    0,    0,    0,    0,    0,    0,    0,    0,    0,    0,\n",
              "          0,    0,    0,    0,    0,    0,    0,    0,    0,    0,    0,\n",
              "          0,    0,    0,    0,    0,    0,    0,    0,    0,    0,    0,\n",
              "          0,    0,    0,    0,    0,    0,    0,    0,    0,    0,    0,\n",
              "          0,    0,    0,    0,    0,    0,    0,    0,    0,    0,    0,\n",
              "          0,    0,    0,    0,    0,    0,    0,    0,    0,    0,    0,\n",
              "          0,    0,    0,    0,    0,    0,    0,    1,   14,   22,   16,\n",
              "         43,  530,  973, 1622, 1385,   65,  458, 4468,   66, 3941,    4,\n",
              "        173,   36,  256,    5,   25,  100,   43,  838,  112,   50,  670,\n",
              "          2,    9,   35,  480,  284,    5,  150,    4,  172,  112,  167,\n",
              "          2,  336,  385,   39,    4,  172, 4536, 1111,   17,  546,   38,\n",
              "         13,  447,    4,  192,   50,   16,    6,  147, 2025,   19,   14,\n",
              "         22,    4, 1920, 4613,  469,    4,   22,   71,   87,   12,   16,\n",
              "         43,  530,   38,   76,   15,   13, 1247,    4,   22,   17,  515,\n",
              "         17,   12,   16,  626,   18,    2,    5,   62,  386,   12,    8,\n",
              "        316,    8,  106,    5,    4, 2223, 5244,   16,  480,   66, 3785,\n",
              "         33,    4,  130,   12,   16,   38,  619,    5,   25,  124,   51,\n",
              "         36,  135,   48,   25, 1415,   33,    6,   22,   12,  215,   28,\n",
              "         77,   52,    5,   14,  407,   16,   82,    2,    8,    4,  107,\n",
              "        117, 5952,   15,  256,    4,    2,    7, 3766,    5,  723,   36,\n",
              "         71,   43,  530,  476,   26,  400,  317,   46,    7,    4,    2,\n",
              "       1029,   13,  104,   88,    4,  381,   15,  297,   98,   32, 2071,\n",
              "         56,   26,  141,    6,  194, 7486,   18,    4,  226,   22,   21,\n",
              "        134,  476,   26,  480,    5,  144,   30, 5535,   18,   51,   36,\n",
              "         28,  224,   92,   25,  104,    4,  226,   65,   16,   38, 1334,\n",
              "         88,   12,   16,  283,    5,   16, 4472,  113,  103,   32,   15,\n",
              "         16, 5345,   19,  178,   32], dtype=int32)"
            ]
          },
          "metadata": {
            "tags": []
          },
          "execution_count": 13
        }
      ]
    },
    {
      "cell_type": "code",
      "metadata": {
        "id": "r6Oc5_fHaHtn",
        "colab_type": "code",
        "colab": {}
      },
      "source": [
        ""
      ],
      "execution_count": 0,
      "outputs": []
    },
    {
      "cell_type": "markdown",
      "metadata": {
        "id": "zkyLExtzae7b",
        "colab_type": "text"
      },
      "source": [
        "#### Create Model"
      ]
    },
    {
      "cell_type": "code",
      "metadata": {
        "id": "Q5ZRsWYeag-3",
        "colab_type": "code",
        "colab": {}
      },
      "source": [
        "from keras.models import Sequential\n",
        "from keras.layers import *"
      ],
      "execution_count": 0,
      "outputs": []
    },
    {
      "cell_type": "code",
      "metadata": {
        "id": "AOkcxaSBavky",
        "colab_type": "code",
        "colab": {}
      },
      "source": [
        "rnn = Sequential()"
      ],
      "execution_count": 0,
      "outputs": []
    },
    {
      "cell_type": "code",
      "metadata": {
        "id": "zXknFgF3a0WU",
        "colab_type": "code",
        "colab": {}
      },
      "source": [
        "rnn.add(Embedding(10000,64))"
      ],
      "execution_count": 0,
      "outputs": []
    },
    {
      "cell_type": "code",
      "metadata": {
        "id": "36kaZPxtsVq0",
        "colab_type": "code",
        "colab": {}
      },
      "source": [
        "rnn.add(SimpleRNN(32)) # unit is not the number of cells but activation dims"
      ],
      "execution_count": 0,
      "outputs": []
    },
    {
      "cell_type": "code",
      "metadata": {
        "id": "g8zyI1AjuVrN",
        "colab_type": "code",
        "colab": {}
      },
      "source": [
        "rnn.add(Dense(1, activation='sigmoid'))"
      ],
      "execution_count": 0,
      "outputs": []
    },
    {
      "cell_type": "code",
      "metadata": {
        "id": "TjlL1Fo-a4uq",
        "colab_type": "code",
        "colab": {
          "base_uri": "https://localhost:8080/",
          "height": 243
        },
        "outputId": "cb598a5c-99b3-4afc-bffd-08588b4efe7e"
      },
      "source": [
        "rnn.summary()"
      ],
      "execution_count": 41,
      "outputs": [
        {
          "output_type": "stream",
          "text": [
            "_________________________________________________________________\n",
            "Layer (type)                 Output Shape              Param #   \n",
            "=================================================================\n",
            "embedding_2 (Embedding)      (None, None, 64)          640000    \n",
            "_________________________________________________________________\n",
            "simple_rnn_2 (SimpleRNN)     (None, 32)                3104      \n",
            "_________________________________________________________________\n",
            "dense_2 (Dense)              (None, 1)                 33        \n",
            "=================================================================\n",
            "Total params: 643,137\n",
            "Trainable params: 643,137\n",
            "Non-trainable params: 0\n",
            "_________________________________________________________________\n"
          ],
          "name": "stdout"
        }
      ]
    },
    {
      "cell_type": "code",
      "metadata": {
        "id": "kDJWZKTabPO0",
        "colab_type": "code",
        "colab": {}
      },
      "source": [
        "# compiling model\n",
        "rnn.compile(loss='binary_crossentropy', optimizer='adam', metrics=['accuracy'])"
      ],
      "execution_count": 0,
      "outputs": []
    },
    {
      "cell_type": "code",
      "metadata": {
        "id": "j7rmnYfWh0y8",
        "colab_type": "code",
        "colab": {}
      },
      "source": [
        "cp = keras.callbacks.ModelCheckpoint('best_model_rnn.h5', monitor='val_loss', verbose=0, save_best_only=True, save_weights_only=False, mode='auto', period = 1)\n",
        "es = keras.callbacks.EarlyStopping(monitor='val_loss', min_delta=0.1, patience=3)"
      ],
      "execution_count": 0,
      "outputs": []
    },
    {
      "cell_type": "code",
      "metadata": {
        "id": "0FUJJvFbuefQ",
        "colab_type": "code",
        "colab": {
          "base_uri": "https://localhost:8080/",
          "height": 263
        },
        "outputId": "30291d8d-e9e8-4ed5-d83f-a4f6a1186eb9"
      },
      "source": [
        "hist = rnn.fit(x_train, y_train, validation_split=0.2, batch_size=256, epochs=10, callbacks=[cp, es])"
      ],
      "execution_count": 22,
      "outputs": [
        {
          "output_type": "stream",
          "text": [
            "W0815 21:16:37.469087 140564442859392 deprecation_wrapper.py:119] From /usr/local/lib/python3.6/dist-packages/keras/backend/tensorflow_backend.py:986: The name tf.assign_add is deprecated. Please use tf.compat.v1.assign_add instead.\n",
            "\n"
          ],
          "name": "stderr"
        },
        {
          "output_type": "stream",
          "text": [
            "Train on 20000 samples, validate on 5000 samples\n",
            "Epoch 1/10\n",
            "20000/20000 [==============================] - 23s 1ms/step - loss: 0.6708 - acc: 0.5863 - val_loss: 0.5464 - val_acc: 0.7772\n",
            "Epoch 2/10\n",
            "20000/20000 [==============================] - 19s 951us/step - loss: 0.4417 - acc: 0.8087 - val_loss: 0.4117 - val_acc: 0.8234\n",
            "Epoch 3/10\n",
            "20000/20000 [==============================] - 19s 960us/step - loss: 0.2712 - acc: 0.8942 - val_loss: 0.4100 - val_acc: 0.8272\n",
            "Epoch 4/10\n",
            "20000/20000 [==============================] - 19s 956us/step - loss: 0.2639 - acc: 0.9009 - val_loss: 0.4362 - val_acc: 0.8204\n",
            "Epoch 5/10\n",
            "20000/20000 [==============================] - 19s 937us/step - loss: 0.1039 - acc: 0.9705 - val_loss: 0.4736 - val_acc: 0.8194\n"
          ],
          "name": "stdout"
        }
      ]
    },
    {
      "cell_type": "code",
      "metadata": {
        "id": "ettozY8hu7ho",
        "colab_type": "code",
        "colab": {}
      },
      "source": [
        "def plot_loss_accuracy(hist):\n",
        "  # plot loss\n",
        "  print(\"training_loss =\", hist.history['loss'][-1],  \"   val_loss =\", hist.history['val_loss'][-1])\n",
        "  print(\"training_acc =\", hist.history['acc'][-1]*100, \"   val_acc =\", hist.history['val_acc'][-1]*100)\n",
        "  plt.plot(hist.history['val_loss'], label='val_loss')\n",
        "  plt.plot(hist.history['loss'], label='training_loss')\n",
        "\n",
        "  # plot accuracy\n",
        "  plt.plot(hist.history['val_acc'], label='val_acc')\n",
        "  plt.plot(hist.history['acc'], label='training_acc')\n",
        "  plt.legend()\n",
        "  plt.show()\n",
        "\n"
      ],
      "execution_count": 0,
      "outputs": []
    },
    {
      "cell_type": "code",
      "metadata": {
        "id": "vxrT6stEwIeg",
        "colab_type": "code",
        "colab": {
          "base_uri": "https://localhost:8080/",
          "height": 304
        },
        "outputId": "ff529095-6f51-40a4-ef4c-4a4df2d20047"
      },
      "source": [
        "plot_loss_accuracy(hist)"
      ],
      "execution_count": 29,
      "outputs": [
        {
          "output_type": "stream",
          "text": [
            "training_loss = 0.10391904073953628    val_loss = 0.47358139667510984\n",
            "training_acc = 97.045    val_acc = 81.94000000953675\n"
          ],
          "name": "stdout"
        },
        {
          "output_type": "display_data",
          "data": {
            "image/png": "[encoded data removed]",
            "text/plain": [
              "<Figure size 432x288 with 1 Axes>"
            ]
          },
          "metadata": {
            "tags": []
          }
        }
      ]
    },
    {
      "cell_type": "code",
      "metadata": {
        "id": "1k4F43Y4wNxK",
        "colab_type": "code",
        "colab": {}
      },
      "source": [
        "# we need not save our model anymore because we have checkpoint\n",
        "# rnn.save('rnn.h5')"
      ],
      "execution_count": 0,
      "outputs": []
    },
    {
      "cell_type": "code",
      "metadata": {
        "id": "NgL71sNKgC84",
        "colab_type": "code",
        "colab": {
          "base_uri": "https://localhost:8080/",
          "height": 34
        },
        "outputId": "0a77024f-ce3f-4c96-c56b-31fc9df45007"
      },
      "source": [
        "!ls"
      ],
      "execution_count": 31,
      "outputs": [
        {
          "output_type": "stream",
          "text": [
            "best_model_rnn.h5  sample_data\n"
          ],
          "name": "stdout"
        }
      ]
    },
    {
      "cell_type": "code",
      "metadata": {
        "id": "bupz6HMBgHB0",
        "colab_type": "code",
        "colab": {}
      },
      "source": [
        "rnn.load_weights('best_model_rnn.h5')"
      ],
      "execution_count": 0,
      "outputs": []
    },
    {
      "cell_type": "code",
      "metadata": {
        "id": "G56jXIT9gcnm",
        "colab_type": "code",
        "colab": {
          "base_uri": "https://localhost:8080/",
          "height": 52
        },
        "outputId": "4ed3cd5c-b613-44d9-fd73-2e1f2fb70e47"
      },
      "source": [
        "rnn.evaluate(x_test, y_test)"
      ],
      "execution_count": 46,
      "outputs": [
        {
          "output_type": "stream",
          "text": [
            "25000/25000 [==============================] - 29s 1ms/step\n"
          ],
          "name": "stdout"
        },
        {
          "output_type": "execute_result",
          "data": {
            "text/plain": [
              "[0.4051181723022461, 0.82708]"
            ]
          },
          "metadata": {
            "tags": []
          },
          "execution_count": 46
        }
      ]
    },
    {
      "cell_type": "code",
      "metadata": {
        "id": "CQFGLXU3gfu2",
        "colab_type": "code",
        "colab": {
          "base_uri": "https://localhost:8080/",
          "height": 52
        },
        "outputId": "a2f1e103-df6b-461a-a8b8-1d7d175923a7"
      },
      "source": [
        "rnn.evaluate(x_train, y_train)"
      ],
      "execution_count": 47,
      "outputs": [
        {
          "output_type": "stream",
          "text": [
            "25000/25000 [==============================] - 29s 1ms/step\n"
          ],
          "name": "stdout"
        },
        {
          "output_type": "execute_result",
          "data": {
            "text/plain": [
              "[0.23265299726486205, 0.91796]"
            ]
          },
          "metadata": {
            "tags": []
          },
          "execution_count": 47
        }
      ]
    },
    {
      "cell_type": "code",
      "metadata": {
        "id": "9GkKVTBigwWp",
        "colab_type": "code",
        "colab": {}
      },
      "source": [
        ""
      ],
      "execution_count": 0,
      "outputs": []
    }
  ]
}